{
 "cells": [
  {
   "cell_type": "code",
   "execution_count": null,
   "id": "2d051ab9",
   "metadata": {},
   "outputs": [],
   "source": [
    "import numpy as np\n",
    "\n",
    "import tensorflow as tf\n",
    "print(tf.__version__)\n",
    "\n",
    "import matplotlib.pyplot as plt"
   ]
  },
  {
   "cell_type": "markdown",
   "id": "ee9d9fa4",
   "metadata": {},
   "source": [
    "## Import Data"
   ]
  },
  {
   "cell_type": "code",
   "execution_count": null,
   "id": "dcdfcc5b",
   "metadata": {},
   "outputs": [],
   "source": [
    "data_name = f\"Curve0407_Samp4K_Inc13_Freq5_4d32_4d74\"\n",
    "volt_name = f\"DataSets/{data_name}_volt.txt\"\n",
    "ptrn_name = f\"DataSets/{data_name}_pattern.txt\"\n",
    "inc_name = f\"DataSets/{data_name}_inc.txt\"\n",
    "freq_name = f\"DataSets/{data_name}_freq.txt\""
   ]
  },
  {
   "cell_type": "code",
   "execution_count": null,
   "id": "b2ef22a7",
   "metadata": {},
   "outputs": [],
   "source": [
    "from emc_data_multi_engine import Data_Box\n",
    "\n",
    "t_size = 0.2\n",
    "data_box = Data_Box([volt_name,inc_name,freq_name,ptrn_name],\n",
    "                    scales = [(0.0,18.0),(-30,30),(4.3,4.7),(0,0.01)])\n",
    "data_box.export_scaler(\"scaler\",[\"scale_0_18.save\",\"scale_m30_30.save\",\"scale_4d3_4d7.save\",\"scale_0_0d01.save\"])\n",
    "x0_train,x0_test,x10_train,x10_test,x11_train, x11_test, y_train,y_test = data_box.gen_train_test(t_size = t_size)\n",
    "\n",
    "x1_train = np.append(x10_train,x11_train,axis = -1)\n",
    "x1_test = np.append(x10_test,x11_test,axis = -1)\n",
    "\n",
    "_,_,dims = data_box.data_dim()\n",
    "\n",
    "dim_volt,dim_inc,dim_freq,dim_ptrn = dims\n",
    "dim_env = dim_inc+dim_freq\n",
    "\n",
    "(n_train,n_test) = data_box.train_test_len()\n",
    "_,inc_scaler,freq_scaler,prtn_scaler = data_box.scalers"
   ]
  },
  {
   "cell_type": "markdown",
   "id": "61e3282d",
   "metadata": {},
   "source": [
    "## Build Models"
   ]
  },
  {
   "cell_type": "markdown",
   "id": "63efd4d0",
   "metadata": {},
   "source": [
    "### Initialize Engine"
   ]
  },
  {
   "cell_type": "code",
   "execution_count": null,
   "id": "1dd7223a",
   "metadata": {},
   "outputs": [],
   "source": [
    "from emc_pre_engine import EmC_Pre_Generator\n",
    "from logger_engine import EmC_Logger\n",
    "from emc_aux_fun import netsummary"
   ]
  },
  {
   "cell_type": "markdown",
   "id": "384ba16d",
   "metadata": {},
   "source": [
    "### Build Network"
   ]
  },
  {
   "cell_type": "code",
   "execution_count": null,
   "id": "d59381c5",
   "metadata": {},
   "outputs": [],
   "source": [
    "tf.keras.backend.clear_session()\n",
    "emc_pre_generator = EmC_Pre_Generator(dim_volt,dim_ptrn,env_dim = dim_env)\n",
    "emc_pre_generator.conv_paras(layer_num = 2,cluster = [3,2], channel = 1024, \n",
    "                             regu = 5e-8,env_on_all_conv = False)\n",
    "emc_pre_generator.fc_paras(layer_num = 3,sz = 1600, regu = 5e-8)\n",
    "\n",
    "(emc_pre,pred_ptrn_layer) = emc_pre_generator.create_EmC_Pre()\n",
    "emc_pre.summary()"
   ]
  },
  {
   "cell_type": "markdown",
   "id": "29e82b64",
   "metadata": {},
   "source": [
    "### Train"
   ]
  },
  {
   "cell_type": "code",
   "execution_count": null,
   "id": "7bd43217",
   "metadata": {},
   "outputs": [],
   "source": [
    "foldername = \"emc_pre_curve_incfqr\"\n",
    "\n",
    "logger = EmC_Logger(foldername)\n",
    "(uid,dirname) = logger.get_ids() # Generate a random ID to track this network\n",
    "\n",
    "logger.write_msg(f\"Network hyperparameter summary: \\n{emc_pre_generator}\")\n",
    "logger.write_msg(f\"Network structure: \\n{netsummary(emc_pre)}\")\n",
    "logger.write_msg(f\"Training on dataset: {volt_name}, {ptrn_name}, test size = {t_size}\")"
   ]
  },
  {
   "cell_type": "code",
   "execution_count": null,
   "id": "22f35b02",
   "metadata": {},
   "outputs": [],
   "source": [
    "n_epochs = 50\n",
    "learning_rate = 0.0003\n",
    "batch_size = 50\n",
    "\n",
    "opt = tf.keras.optimizers.Adam(learning_rate=learning_rate)\n",
    "lossfun = \"mse\"\n",
    "\n",
    "checkpoint = tf.keras.callbacks.ModelCheckpoint(\n",
    "    filepath=dirname+\"/network_para/epoch{epoch:03d}-loss{val_loss:.6f}.hdf5\",\n",
    "    monitor=\"val_loss\",verbose=1,save_best_only=True,save_weights_only=True,mode=\"min\")\n",
    "emc_pre.compile(loss=lossfun, optimizer=opt)\n",
    "\n",
    "logger.write_msg(f\"# of epoch = {n_epochs} \\n Batch size = {batch_size}\\n Optimazation with Adam, learning rate {learning_rate}\")"
   ]
  },
  {
   "cell_type": "code",
   "execution_count": null,
   "id": "0866db79",
   "metadata": {},
   "outputs": [],
   "source": [
    "logger.write_msg(f\"Training starts\")\n",
    "history = emc_pre.fit([x0_train,x1_train], y_train, validation_data=([x0_test,x1_test], y_test), \n",
    "                      epochs=n_epochs, batch_size=batch_size, shuffle=True,\n",
    "                      callbacks=[checkpoint])\n",
    "logger.write_msg(f\"Training finished\")\n",
    "np.savetxt(f\"{dirname}/loss.txt\",history.history['loss'])\n",
    "np.savetxt(f\"{dirname}/val_loss.txt\",history.history['val_loss'])\n",
    "logger.write_msg(f\"Losses saved\")"
   ]
  },
  {
   "cell_type": "markdown",
   "id": "f22b8674",
   "metadata": {},
   "source": [
    "### Results"
   ]
  },
  {
   "cell_type": "code",
   "execution_count": null,
   "id": "f108cc20",
   "metadata": {},
   "outputs": [],
   "source": [
    "num_epoch=list(range(1,n_epochs+1))\n",
    "plt.figure(figsize=(6,4))\n",
    "\n",
    "#Plot loss vs epoch\n",
    "plt.rc('font', size=14) \n",
    "plt.plot(num_epoch, history.history['loss'])\n",
    "plt.plot(num_epoch, history.history['val_loss'])\n",
    "plt.legend(('Training Set','Validation Set'), fontsize=12, loc=1)\n",
    "plt.xlabel('Epoch #', fontsize=12)\n",
    "plt.ylabel('Loss', fontsize=12)\n",
    "plt.xlim(1,n_epochs)\n",
    "plt.ylim(0,0.01)\n",
    "plt.xticks(list(range(0,n_epochs,100)))\n",
    "\n",
    "plt.show()"
   ]
  },
  {
   "cell_type": "code",
   "execution_count": null,
   "id": "58c326be",
   "metadata": {},
   "outputs": [],
   "source": [
    "y_predict = emc_pre.predict([x0_test,x1_test])\n",
    "errs = emc_pre.evaluate([x0_test,x1_test],y_test)\n",
    "\n",
    "theta = np.arange(0, np.pi+np.pi/36, np.pi/36)\n",
    "\n",
    "plt.figure(figsize=(15,15))\n",
    "\n",
    "for n_example in range (0,25):\n",
    "    y_example = prtn_scaler.inverse_transform(y_test[n_example,:].reshape(1, -1))\n",
    "    y_predictn = prtn_scaler.inverse_transform(y_predict[n_example,:].reshape(1, -1))\n",
    "    a_example = inc_scaler.inverse_transform(x1_test[n_example,:].reshape(1,-1))[0,0]\n",
    "    f_example = freq_scaler.inverse_transform(x1_test[n_example,:].reshape(1,-1))[0,1]\n",
    "    \n",
    "    #plt.subplot(5,5,n_example+1,projection = 'polar')\n",
    "    plt.subplot(5,5,n_example+1)\n",
    "    plt.rc('font', size=8)\n",
    "    plt.plot(theta, y_predictn.reshape(dim_ptrn,1))\n",
    "    plt.plot(theta, y_example.reshape(dim_ptrn,1))\n",
    "    plt.text(1,0.006,f\"{a_example:.0f} deg\", fontsize=12)\n",
    "    plt.text(1,0.005,f\"{f_example:.2f} GHz\", fontsize=12)\n",
    "    plt.ylim(0,0.007)\n",
    "    if n_example == 0: plt.legend(('Prediction','Real'), fontsize=12, loc=3)"
   ]
  }
 ],
 "metadata": {
  "kernelspec": {
   "display_name": "Python 3 (ipykernel)",
   "language": "python",
   "name": "python3"
  },
  "language_info": {
   "codemirror_mode": {
    "name": "ipython",
    "version": 3
   },
   "file_extension": ".py",
   "mimetype": "text/x-python",
   "name": "python",
   "nbconvert_exporter": "python",
   "pygments_lexer": "ipython3",
   "version": "3.9.7"
  }
 },
 "nbformat": 4,
 "nbformat_minor": 5
}
